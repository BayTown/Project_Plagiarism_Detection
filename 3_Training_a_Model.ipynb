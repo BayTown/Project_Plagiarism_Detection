{
 "cells": [
  {
   "cell_type": "markdown",
   "metadata": {},
   "source": [
    "# Plagiarism Detection Model\n",
    "\n",
    "Now that you've created training and test data, you are ready to define and train a model. Your goal in this notebook, will be to train a binary classification model that learns to label an answer file as either plagiarized or not, based on the features you provide the model.\n",
    "\n",
    "This task will be broken down into a few discrete steps:\n",
    "\n",
    "* Upload your data to S3.\n",
    "* Define a binary classification model and a training script.\n",
    "* Train your model and deploy it.\n",
    "* Evaluate your deployed classifier and answer some questions about your approach.\n",
    "\n",
    "To complete this notebook, you'll have to complete all given exercises and answer all the questions in this notebook.\n",
    "> All your tasks will be clearly labeled **EXERCISE** and questions as **QUESTION**.\n",
    "\n",
    "It will be up to you to explore different classification models and decide on a model that gives you the best performance for this dataset.\n",
    "\n",
    "---"
   ]
  },
  {
   "cell_type": "markdown",
   "metadata": {},
   "source": [
    "## Load Data to S3\n",
    "\n",
    "In the last notebook, you should have created two files: a `training.csv` and `test.csv` file with the features and class labels for the given corpus of plagiarized/non-plagiarized text data. \n",
    "\n",
    ">The below cells load in some AWS SageMaker libraries and creates a default bucket. After creating this bucket, you can upload your locally stored data to S3.\n",
    "\n",
    "Save your train and test `.csv` feature files, locally. To do this you can run the second notebook \"2_Plagiarism_Feature_Engineering\" in SageMaker or you can manually upload your files to this notebook using the upload icon in Jupyter Lab. Then you can upload local files to S3 by using `sagemaker_session.upload_data` and pointing directly to where the training data is saved."
   ]
  },
  {
   "cell_type": "code",
   "execution_count": 1,
   "metadata": {},
   "outputs": [],
   "source": [
    "import pandas as pd\n",
    "import boto3\n",
    "import sagemaker"
   ]
  },
  {
   "cell_type": "code",
   "execution_count": 6,
   "metadata": {},
   "outputs": [],
   "source": [
    "\"\"\"\n",
    "DON'T MODIFY ANYTHING IN THIS CELL THAT IS BELOW THIS LINE\n",
    "\"\"\"\n",
    "# session and role\n",
    "sagemaker_session = sagemaker.Session()\n",
    "role = sagemaker.get_execution_role()\n",
    "\n",
    "# create an S3 bucket\n",
    "bucket = sagemaker_session.default_bucket()"
   ]
  },
  {
   "cell_type": "markdown",
   "metadata": {},
   "source": [
    "## EXERCISE: Upload your training data to S3\n",
    "\n",
    "Specify the `data_dir` where you've saved your `train.csv` file. Decide on a descriptive `prefix` that defines where your data will be uploaded in the default S3 bucket. Finally, create a pointer to your training data by calling `sagemaker_session.upload_data` and passing in the required parameters. It may help to look at the [Session documentation](https://sagemaker.readthedocs.io/en/stable/session.html#sagemaker.session.Session.upload_data) or previous SageMaker code examples.\n",
    "\n",
    "You are expected to upload your entire directory. Later, the training script will only access the `train.csv` file."
   ]
  },
  {
   "cell_type": "code",
   "execution_count": 7,
   "metadata": {},
   "outputs": [],
   "source": [
    "# should be the name of directory you created to save your features data\n",
    "data_dir = 'plagiarism_data'\n",
    "\n",
    "# set prefix, a descriptive name for a directory  \n",
    "prefix = 'sagemaker-plagiarism-detection'\n",
    "\n",
    "# upload all data to S3\n",
    "input_data = sagemaker_session.upload_data(path=data_dir, bucket=bucket, key_prefix=prefix)"
   ]
  },
  {
   "cell_type": "markdown",
   "metadata": {},
   "source": [
    "### Test cell\n",
    "\n",
    "Test that your data has been successfully uploaded. The below cell prints out the items in your S3 bucket and will throw an error if it is empty. You should see the contents of your `data_dir` and perhaps some checkpoints. If you see any other files listed, then you may have some old model files that you can delete via the S3 console (though, additional files shouldn't affect the performance of model developed in this notebook)."
   ]
  },
  {
   "cell_type": "code",
   "execution_count": 8,
   "metadata": {},
   "outputs": [
    {
     "name": "stdout",
     "output_type": "stream",
     "text": [
      "sagemaker-plagiarism-detection/test.csv\n",
      "sagemaker-plagiarism-detection/train.csv\n",
      "Test passed!\n"
     ]
    }
   ],
   "source": [
    "\"\"\"\n",
    "DON'T MODIFY ANYTHING IN THIS CELL THAT IS BELOW THIS LINE\n",
    "\"\"\"\n",
    "# confirm that data is in S3 bucket\n",
    "empty_check = []\n",
    "for obj in boto3.resource('s3').Bucket(bucket).objects.all():\n",
    "    empty_check.append(obj.key)\n",
    "    print(obj.key)\n",
    "\n",
    "assert len(empty_check) !=0, 'S3 bucket is empty.'\n",
    "print('Test passed!')"
   ]
  },
  {
   "cell_type": "markdown",
   "metadata": {},
   "source": [
    "---\n",
    "\n",
    "# Modeling\n",
    "\n",
    "Now that you've uploaded your training data, it's time to define and train a model!\n",
    "\n",
    "The type of model you create is up to you. For a binary classification task, you can choose to go one of three routes:\n",
    "* Use a built-in classification algorithm, like LinearLearner.\n",
    "* Define a custom Scikit-learn classifier, a comparison of models can be found [here](https://scikit-learn.org/stable/auto_examples/classification/plot_classifier_comparison.html).\n",
    "* Define a custom PyTorch neural network classifier. \n",
    "\n",
    "It will be up to you to test out a variety of models and choose the best one. Your project will be graded on the accuracy of your final model. \n",
    " \n",
    "---\n",
    "\n",
    "## EXERCISE: Complete a training script \n",
    "\n",
    "To implement a custom classifier, you'll need to complete a `train.py` script. You've been given the folders `source_sklearn` and `source_pytorch` which hold starting code for a custom Scikit-learn model and a PyTorch model, respectively. Each directory has a `train.py` training script. To complete this project **you only need to complete one of these scripts**; the script that is responsible for training your final model.\n",
    "\n",
    "A typical training script:\n",
    "* Loads training data from a specified directory\n",
    "* Parses any training & model hyperparameters (ex. nodes in a neural network, training epochs, etc.)\n",
    "* Instantiates a model of your design, with any specified hyperparams\n",
    "* Trains that model \n",
    "* Finally, saves the model so that it can be hosted/deployed, later\n",
    "\n",
    "### Defining and training a model\n",
    "Much of the training script code is provided for you. Almost all of your work will be done in the `if __name__ == '__main__':` section. To complete a `train.py` file, you will:\n",
    "1. Import any extra libraries you need\n",
    "2. Define any additional model training hyperparameters using `parser.add_argument`\n",
    "2. Define a model in the `if __name__ == '__main__':` section\n",
    "3. Train the model in that same section\n",
    "\n",
    "Below, you can use `!pygmentize` to display an existing `train.py` file. Read through the code; all of your tasks are marked with `TODO` comments. \n",
    "\n",
    "**Note: If you choose to create a custom PyTorch model, you will be responsible for defining the model in the `model.py` file,** and a `predict.py` file is provided. If you choose to use Scikit-learn, you only need a `train.py` file; you may import a classifier from the `sklearn` library."
   ]
  },
  {
   "cell_type": "code",
   "execution_count": null,
   "metadata": {
    "collapsed": true,
    "jupyter": {
     "outputs_hidden": true
    }
   },
   "outputs": [],
   "source": [
    "# directory can be changed to: source_sklearn or source_pytorch\n",
    "!pygmentize source_sklearn/train.py"
   ]
  },
  {
   "cell_type": "markdown",
   "metadata": {},
   "source": [
    "### Provided code\n",
    "\n",
    "If you read the code above, you can see that the starter code includes a few things:\n",
    "* Model loading (`model_fn`) and saving code\n",
    "* Getting SageMaker's default hyperparameters\n",
    "* Loading the training data by name, `train.csv` and extracting the features and labels, `train_x`, and `train_y`\n",
    "\n",
    "If you'd like to read more about model saving with [joblib for sklearn](https://scikit-learn.org/stable/modules/model_persistence.html) or with [torch.save](https://pytorch.org/tutorials/beginner/saving_loading_models.html), click on the provided links."
   ]
  },
  {
   "cell_type": "markdown",
   "metadata": {},
   "source": [
    "---\n",
    "# Create an Estimator\n",
    "\n",
    "When a custom model is constructed in SageMaker, an entry point must be specified. This is the Python file which will be executed when the model is trained; the `train.py` function you specified above. To run a custom training script in SageMaker, construct an estimator, and fill in the appropriate constructor arguments:\n",
    "\n",
    "* **entry_point**: The path to the Python script SageMaker runs for training and prediction.\n",
    "* **source_dir**: The path to the training script directory `source_sklearn` OR `source_pytorch`.\n",
    "* **entry_point**: The path to the Python script SageMaker runs for training and prediction.\n",
    "* **source_dir**: The path to the training script directory `train_sklearn` OR `train_pytorch`.\n",
    "* **entry_point**: The path to the Python script SageMaker runs for training.\n",
    "* **source_dir**: The path to the training script directory `train_sklearn` OR `train_pytorch`.\n",
    "* **role**: Role ARN, which was specified, above.\n",
    "* **train_instance_count**: The number of training instances (should be left at 1).\n",
    "* **train_instance_type**: The type of SageMaker instance for training. Note: Because Scikit-learn does not natively support GPU training, Sagemaker Scikit-learn does not currently support training on GPU instance types.\n",
    "* **sagemaker_session**: The session used to train on Sagemaker.\n",
    "* **hyperparameters** (optional): A dictionary `{'name':value, ..}` passed to the train function as hyperparameters.\n",
    "\n",
    "Note: For a PyTorch model, there is another optional argument **framework_version**, which you can set to the latest version of PyTorch, `1.0`.\n",
    "\n",
    "## EXERCISE: Define a Scikit-learn or PyTorch estimator\n",
    "\n",
    "To import your desired estimator, use one of the following lines:\n",
    "```\n",
    "from sagemaker.sklearn.estimator import SKLearn\n",
    "```\n",
    "```\n",
    "from sagemaker.pytorch import PyTorch\n",
    "```"
   ]
  },
  {
   "cell_type": "code",
   "execution_count": 9,
   "metadata": {},
   "outputs": [],
   "source": [
    "from sagemaker.pytorch import PyTorch\n",
    "# your import and estimator code, here\n",
    "\n",
    "# specify an output path\n",
    "output_path = 's3://{}/{}'.format(bucket, prefix)\n",
    "\n",
    "# instantiate a pytorch estimator\n",
    "estimator = PyTorch(entry_point='train.py',\n",
    "                    source_dir='source_pytorch',\n",
    "                    framework_version='1.3.1',\n",
    "                    role=role,\n",
    "                    sagemaker_session=sagemaker_session,\n",
    "                    train_instance_count=1,\n",
    "                    train_instance_type='ml.c4.xlarge',\n",
    "                    output_path=output_path,\n",
    "                    hyperparameters={'input_features': 3,\n",
    "                                     'hidden_dim': 20,\n",
    "                                     'output_dim': 1,\n",
    "                                     'epochs': 100})"
   ]
  },
  {
   "cell_type": "markdown",
   "metadata": {},
   "source": [
    "## EXERCISE: Train the estimator\n",
    "\n",
    "Train your estimator on the training data stored in S3. This should create a training job that you can monitor in your SageMaker console."
   ]
  },
  {
   "cell_type": "code",
   "execution_count": 13,
   "metadata": {},
   "outputs": [
    {
     "name": "stdout",
     "output_type": "stream",
     "text": [
      "2019-12-14 09:39:30 Starting - Starting the training job...\n",
      "2019-12-14 09:39:31 Starting - Launching requested ML instances......\n",
      "2019-12-14 09:40:33 Starting - Preparing the instances for training.........\n",
      "2019-12-14 09:42:13 Downloading - Downloading input data...\n",
      "2019-12-14 09:42:58 Training - Downloading the training image..\u001b[34mbash: cannot set terminal process group (-1): Inappropriate ioctl for device\u001b[0m\n",
      "\u001b[34mbash: no job control in this shell\u001b[0m\n",
      "\u001b[34m2019-12-14 09:43:12,150 sagemaker-containers INFO     Imported framework sagemaker_pytorch_container.training\u001b[0m\n",
      "\u001b[34m2019-12-14 09:43:12,155 sagemaker-containers INFO     No GPUs detected (normal if no gpus installed)\u001b[0m\n",
      "\u001b[34m2019-12-14 09:43:12,168 sagemaker_pytorch_container.training INFO     Block until all host DNS lookups succeed.\u001b[0m\n",
      "\u001b[34m2019-12-14 09:43:15,223 sagemaker_pytorch_container.training INFO     Invoking user training script.\u001b[0m\n",
      "\u001b[34m2019-12-14 09:43:15,650 sagemaker-containers INFO     Module default_user_module_name does not provide a setup.py. \u001b[0m\n",
      "\u001b[34mGenerating setup.py\u001b[0m\n",
      "\u001b[34m2019-12-14 09:43:15,651 sagemaker-containers INFO     Generating setup.cfg\u001b[0m\n",
      "\u001b[34m2019-12-14 09:43:15,651 sagemaker-containers INFO     Generating MANIFEST.in\u001b[0m\n",
      "\u001b[34m2019-12-14 09:43:15,651 sagemaker-containers INFO     Installing module with the following command:\u001b[0m\n",
      "\u001b[34m/opt/conda/bin/python -m pip install . \u001b[0m\n",
      "\u001b[34mProcessing /tmp/tmppiwh2yx4/module_dir\u001b[0m\n",
      "\u001b[34mBuilding wheels for collected packages: default-user-module-name\n",
      "  Building wheel for default-user-module-name (setup.py): started\n",
      "  Building wheel for default-user-module-name (setup.py): finished with status 'done'\n",
      "  Created wheel for default-user-module-name: filename=default_user_module_name-1.0.0-py2.py3-none-any.whl size=17781 sha256=f1cd39402ec2873e868107bdd0479a4ceb10cc39733d2bd3aeccdbacf1b71b0f\n",
      "  Stored in directory: /tmp/pip-ephem-wheel-cache-2da4pjvw/wheels/0a/c3/52/4e01b47d974035bdc68f99b0466d7f8a376fd96b5a3b4c483e\u001b[0m\n",
      "\u001b[34mSuccessfully built default-user-module-name\u001b[0m\n",
      "\u001b[34mInstalling collected packages: default-user-module-name\u001b[0m\n",
      "\u001b[34mSuccessfully installed default-user-module-name-1.0.0\u001b[0m\n",
      "\u001b[34m2019-12-14 09:43:17,883 sagemaker-containers INFO     No GPUs detected (normal if no gpus installed)\u001b[0m\n",
      "\u001b[34m2019-12-14 09:43:17,898 sagemaker-containers INFO     No GPUs detected (normal if no gpus installed)\u001b[0m\n",
      "\u001b[34m2019-12-14 09:43:17,913 sagemaker-containers INFO     No GPUs detected (normal if no gpus installed)\u001b[0m\n",
      "\u001b[34m2019-12-14 09:43:17,925 sagemaker-containers INFO     Invoking user script\n",
      "\u001b[0m\n",
      "\u001b[34mTraining Env:\n",
      "\u001b[0m\n",
      "\u001b[34m{\n",
      "    \"additional_framework_parameters\": {},\n",
      "    \"channel_input_dirs\": {\n",
      "        \"train\": \"/opt/ml/input/data/train\"\n",
      "    },\n",
      "    \"current_host\": \"algo-1\",\n",
      "    \"framework_module\": \"sagemaker_pytorch_container.training:main\",\n",
      "    \"hosts\": [\n",
      "        \"algo-1\"\n",
      "    ],\n",
      "    \"hyperparameters\": {\n",
      "        \"hidden_dim\": 20,\n",
      "        \"input_features\": 3,\n",
      "        \"epochs\": 100,\n",
      "        \"output_dim\": 1\n",
      "    },\n",
      "    \"input_config_dir\": \"/opt/ml/input/config\",\n",
      "    \"input_data_config\": {\n",
      "        \"train\": {\n",
      "            \"TrainingInputMode\": \"File\",\n",
      "            \"S3DistributionType\": \"FullyReplicated\",\n",
      "            \"RecordWrapperType\": \"None\"\n",
      "        }\n",
      "    },\n",
      "    \"input_dir\": \"/opt/ml/input\",\n",
      "    \"is_master\": true,\n",
      "    \"job_name\": \"pytorch-training-2019-12-14-09-39-29-922\",\n",
      "    \"log_level\": 20,\n",
      "    \"master_hostname\": \"algo-1\",\n",
      "    \"model_dir\": \"/opt/ml/model\",\n",
      "    \"module_dir\": \"s3://sagemaker-us-east-1-845497956700/pytorch-training-2019-12-14-09-39-29-922/source/sourcedir.tar.gz\",\n",
      "    \"module_name\": \"train\",\n",
      "    \"network_interface_name\": \"eth0\",\n",
      "    \"num_cpus\": 4,\n",
      "    \"num_gpus\": 0,\n",
      "    \"output_data_dir\": \"/opt/ml/output/data\",\n",
      "    \"output_dir\": \"/opt/ml/output\",\n",
      "    \"output_intermediate_dir\": \"/opt/ml/output/intermediate\",\n",
      "    \"resource_config\": {\n",
      "        \"current_host\": \"algo-1\",\n",
      "        \"hosts\": [\n",
      "            \"algo-1\"\n",
      "        ],\n",
      "        \"network_interface_name\": \"eth0\"\n",
      "    },\n",
      "    \"user_entry_point\": \"train.py\"\u001b[0m\n",
      "\u001b[34m}\n",
      "\u001b[0m\n",
      "\u001b[34mEnvironment variables:\n",
      "\u001b[0m\n",
      "\u001b[34mSM_HOSTS=[\"algo-1\"]\u001b[0m\n",
      "\u001b[34mSM_NETWORK_INTERFACE_NAME=eth0\u001b[0m\n",
      "\u001b[34mSM_HPS={\"epochs\":100,\"hidden_dim\":20,\"input_features\":3,\"output_dim\":1}\u001b[0m\n",
      "\u001b[34mSM_USER_ENTRY_POINT=train.py\u001b[0m\n",
      "\u001b[34mSM_FRAMEWORK_PARAMS={}\u001b[0m\n",
      "\u001b[34mSM_RESOURCE_CONFIG={\"current_host\":\"algo-1\",\"hosts\":[\"algo-1\"],\"network_interface_name\":\"eth0\"}\u001b[0m\n",
      "\u001b[34mSM_INPUT_DATA_CONFIG={\"train\":{\"RecordWrapperType\":\"None\",\"S3DistributionType\":\"FullyReplicated\",\"TrainingInputMode\":\"File\"}}\u001b[0m\n",
      "\u001b[34mSM_OUTPUT_DATA_DIR=/opt/ml/output/data\u001b[0m\n",
      "\u001b[34mSM_CHANNELS=[\"train\"]\u001b[0m\n",
      "\u001b[34mSM_CURRENT_HOST=algo-1\u001b[0m\n",
      "\u001b[34mSM_MODULE_NAME=train\u001b[0m\n",
      "\u001b[34mSM_LOG_LEVEL=20\u001b[0m\n",
      "\u001b[34mSM_FRAMEWORK_MODULE=sagemaker_pytorch_container.training:main\u001b[0m\n",
      "\u001b[34mSM_INPUT_DIR=/opt/ml/input\u001b[0m\n",
      "\u001b[34mSM_INPUT_CONFIG_DIR=/opt/ml/input/config\u001b[0m\n",
      "\u001b[34mSM_OUTPUT_DIR=/opt/ml/output\u001b[0m\n",
      "\u001b[34mSM_NUM_CPUS=4\u001b[0m\n",
      "\u001b[34mSM_NUM_GPUS=0\u001b[0m\n",
      "\u001b[34mSM_MODEL_DIR=/opt/ml/model\u001b[0m\n",
      "\u001b[34mSM_MODULE_DIR=s3://sagemaker-us-east-1-845497956700/pytorch-training-2019-12-14-09-39-29-922/source/sourcedir.tar.gz\u001b[0m\n",
      "\u001b[34mSM_TRAINING_ENV={\"additional_framework_parameters\":{},\"channel_input_dirs\":{\"train\":\"/opt/ml/input/data/train\"},\"current_host\":\"algo-1\",\"framework_module\":\"sagemaker_pytorch_container.training:main\",\"hosts\":[\"algo-1\"],\"hyperparameters\":{\"epochs\":100,\"hidden_dim\":20,\"input_features\":3,\"output_dim\":1},\"input_config_dir\":\"/opt/ml/input/config\",\"input_data_config\":{\"train\":{\"RecordWrapperType\":\"None\",\"S3DistributionType\":\"FullyReplicated\",\"TrainingInputMode\":\"File\"}},\"input_dir\":\"/opt/ml/input\",\"is_master\":true,\"job_name\":\"pytorch-training-2019-12-14-09-39-29-922\",\"log_level\":20,\"master_hostname\":\"algo-1\",\"model_dir\":\"/opt/ml/model\",\"module_dir\":\"s3://sagemaker-us-east-1-845497956700/pytorch-training-2019-12-14-09-39-29-922/source/sourcedir.tar.gz\",\"module_name\":\"train\",\"network_interface_name\":\"eth0\",\"num_cpus\":4,\"num_gpus\":0,\"output_data_dir\":\"/opt/ml/output/data\",\"output_dir\":\"/opt/ml/output\",\"output_intermediate_dir\":\"/opt/ml/output/intermediate\",\"resource_config\":{\"current_host\":\"algo-1\",\"hosts\":[\"algo-1\"],\"network_interface_name\":\"eth0\"},\"user_entry_point\":\"train.py\"}\u001b[0m\n",
      "\u001b[34mSM_USER_ARGS=[\"--epochs\",\"100\",\"--hidden_dim\",\"20\",\"--input_features\",\"3\",\"--output_dim\",\"1\"]\u001b[0m\n",
      "\u001b[34mSM_OUTPUT_INTERMEDIATE_DIR=/opt/ml/output/intermediate\u001b[0m\n",
      "\u001b[34mSM_CHANNEL_TRAIN=/opt/ml/input/data/train\u001b[0m\n",
      "\u001b[34mSM_HP_HIDDEN_DIM=20\u001b[0m\n",
      "\u001b[34mSM_HP_INPUT_FEATURES=3\u001b[0m\n",
      "\u001b[34mSM_HP_EPOCHS=100\u001b[0m\n",
      "\u001b[34mSM_HP_OUTPUT_DIM=1\u001b[0m\n",
      "\u001b[34mPYTHONPATH=/opt/ml/code:/opt/conda/bin:/opt/conda/lib/python36.zip:/opt/conda/lib/python3.6:/opt/conda/lib/python3.6/lib-dynload:/opt/conda/lib/python3.6/site-packages\n",
      "\u001b[0m\n",
      "\u001b[34mInvoking script with the following command:\n",
      "\u001b[0m\n",
      "\u001b[34m/opt/conda/bin/python train.py --epochs 100 --hidden_dim 20 --input_features 3 --output_dim 1\n",
      "\n",
      "\u001b[0m\n",
      "\n",
      "2019-12-14 09:43:26 Uploading - Uploading generated training model\u001b[34mUsing device cpu.\u001b[0m\n",
      "\u001b[34m/opt/conda/lib/python3.6/site-packages/torch/nn/modules/loss.py:498: UserWarning: Using a target size (torch.Size([10])) that is different to the input size (torch.Size([10, 1])) is deprecated. Please ensure they have the same size.\u001b[0m\n",
      "\u001b[34mGet train data loader.\n",
      "  return F.binary_cross_entropy(input, target, weight=self.weight, reduction=self.reduction)\u001b[0m\n",
      "\u001b[34m[2019-12-14 09:43:20.593 algo-1:45 INFO json_config.py:90] Creating hook from json_config at /opt/ml/input/config/debughookconfig.json.\u001b[0m\n",
      "\u001b[34m[2019-12-14 09:43:20.593 algo-1:45 INFO hook.py:151] tensorboard_dir has not been set for the hook. SMDebug will not be exporting tensorboard summaries.\u001b[0m\n",
      "\u001b[34m[2019-12-14 09:43:20.593 algo-1:45 INFO hook.py:196] Saving to /opt/ml/output/tensors\u001b[0m\n",
      "\u001b[34m[2019-12-14 09:43:20.594 algo-1:45 INFO hook.py:325] Monitoring the collections: losses, scalars\u001b[0m\n",
      "\u001b[34mEpoch: 1, Loss: 0.7071526306016105\u001b[0m\n",
      "\u001b[34mEpoch: 2, Loss: 0.6937698636736188\u001b[0m\n",
      "\u001b[34mEpoch: 3, Loss: 0.6874431712286813\u001b[0m\n",
      "\u001b[34mEpoch: 4, Loss: 0.6772414020129612\u001b[0m\n",
      "\u001b[34mEpoch: 5, Loss: 0.6752846240997314\u001b[0m\n",
      "\u001b[34mEpoch: 6, Loss: 0.6802624208586556\u001b[0m\n",
      "\u001b[34mEpoch: 7, Loss: 0.6623947364943368\u001b[0m\n",
      "\u001b[34mEpoch: 8, Loss: 0.6767120616776603\u001b[0m\n",
      "\u001b[34mEpoch: 9, Loss: 0.6601067440850394\u001b[0m\n",
      "\u001b[34mEpoch: 10, Loss: 0.6565702472414289\u001b[0m\n",
      "\u001b[34mEpoch: 11, Loss: 0.6617819496563503\u001b[0m\n",
      "\u001b[34mEpoch: 12, Loss: 0.6549524239131382\u001b[0m\n",
      "\u001b[34mEpoch: 13, Loss: 0.6516585860933576\u001b[0m\n",
      "\u001b[34mEpoch: 14, Loss: 0.6385905231748309\u001b[0m\n",
      "\u001b[34mEpoch: 15, Loss: 0.6332269310951233\u001b[0m\n",
      "\u001b[34mEpoch: 16, Loss: 0.6482406003134591\u001b[0m\n",
      "\u001b[34mEpoch: 17, Loss: 0.630250266620091\u001b[0m\n",
      "\u001b[34mEpoch: 18, Loss: 0.6406682303973606\u001b[0m\n",
      "\u001b[34mEpoch: 19, Loss: 0.6286060384341648\u001b[0m\n",
      "\u001b[34mEpoch: 20, Loss: 0.6321681141853333\u001b[0m\n",
      "\u001b[34mEpoch: 21, Loss: 0.6254208598818097\u001b[0m\n",
      "\u001b[34mEpoch: 22, Loss: 0.627437310559409\u001b[0m\n",
      "\u001b[34mEpoch: 23, Loss: 0.6204301544598171\u001b[0m\n",
      "\u001b[34mEpoch: 24, Loss: 0.6198388593537467\u001b[0m\n",
      "\u001b[34mEpoch: 25, Loss: 0.6272430760519845\u001b[0m\n",
      "\u001b[34mEpoch: 26, Loss: 0.6016646708760943\u001b[0m\n",
      "\u001b[34mEpoch: 27, Loss: 0.6093014819281442\u001b[0m\n",
      "\u001b[34mEpoch: 28, Loss: 0.6019297582762582\u001b[0m\n",
      "\u001b[34mEpoch: 29, Loss: 0.6091029090540749\u001b[0m\n",
      "\u001b[34mEpoch: 30, Loss: 0.6048240917069572\u001b[0m\n",
      "\u001b[34mEpoch: 31, Loss: 0.5920614770480565\u001b[0m\n",
      "\u001b[34m2019-12-14 09:43:21,828 sagemaker-containers INFO     Reporting training SUCCESS\u001b[0m\n",
      "\u001b[34mEpoch: 32, Loss: 0.5921588114329747\u001b[0m\n",
      "\u001b[34mEpoch: 33, Loss: 0.6018143466540745\u001b[0m\n",
      "\u001b[34mEpoch: 34, Loss: 0.6041488604886192\u001b[0m\n",
      "\u001b[34mEpoch: 35, Loss: 0.5876223955835614\u001b[0m\n",
      "\u001b[34mEpoch: 36, Loss: 0.5936953595706395\u001b[0m\n",
      "\u001b[34mEpoch: 37, Loss: 0.5896143359797341\u001b[0m\n",
      "\u001b[34mEpoch: 38, Loss: 0.590638701404844\u001b[0m\n",
      "\u001b[34mEpoch: 39, Loss: 0.5798088312149048\u001b[0m\n",
      "\u001b[34mEpoch: 40, Loss: 0.5822285456316811\u001b[0m\n",
      "\u001b[34mEpoch: 41, Loss: 0.5934417758669172\u001b[0m\n",
      "\u001b[34mEpoch: 42, Loss: 0.5715050995349884\u001b[0m\n",
      "\u001b[34mEpoch: 43, Loss: 0.5788578178201403\u001b[0m\n",
      "\u001b[34mEpoch: 44, Loss: 0.5689225324562618\u001b[0m\n",
      "\u001b[34mEpoch: 45, Loss: 0.5591341810567039\u001b[0m\n",
      "\u001b[34mEpoch: 46, Loss: 0.5637428505080087\u001b[0m\n",
      "\u001b[34mEpoch: 47, Loss: 0.5628968477249146\u001b[0m\n",
      "\u001b[34mEpoch: 48, Loss: 0.5696451493671962\u001b[0m\n",
      "\u001b[34mEpoch: 49, Loss: 0.5537788910525185\u001b[0m\n",
      "\u001b[34mEpoch: 50, Loss: 0.5564251499516624\u001b[0m\n",
      "\u001b[34mEpoch: 51, Loss: 0.5649691947868892\u001b[0m\n",
      "\u001b[34mEpoch: 52, Loss: 0.5536738336086273\u001b[0m\n",
      "\u001b[34mEpoch: 53, Loss: 0.5456250607967377\u001b[0m\n",
      "\u001b[34mEpoch: 54, Loss: 0.5334514549800328\u001b[0m\n",
      "\u001b[34mEpoch: 55, Loss: 0.5243236592837742\u001b[0m\n",
      "\u001b[34mEpoch: 56, Loss: 0.5526921365942273\u001b[0m\n",
      "\u001b[34mEpoch: 57, Loss: 0.5209608674049377\u001b[0m\n",
      "\u001b[34mEpoch: 58, Loss: 0.5260496735572815\u001b[0m\n",
      "\u001b[34mEpoch: 59, Loss: 0.5403263781751905\u001b[0m\n",
      "\u001b[34mEpoch: 60, Loss: 0.5341603798525674\u001b[0m\n",
      "\u001b[34mEpoch: 61, Loss: 0.5143606066703796\u001b[0m\n",
      "\u001b[34mEpoch: 62, Loss: 0.5493095517158508\u001b[0m\n",
      "\u001b[34mEpoch: 63, Loss: 0.5260870839868274\u001b[0m\n",
      "\u001b[34mEpoch: 64, Loss: 0.5206259148461478\u001b[0m\n",
      "\u001b[34mEpoch: 65, Loss: 0.5120986104011536\u001b[0m\n",
      "\u001b[34mEpoch: 66, Loss: 0.4992968908378056\u001b[0m\n",
      "\u001b[34mEpoch: 67, Loss: 0.512790675674166\u001b[0m\n",
      "\u001b[34mEpoch: 68, Loss: 0.5033084494726998\u001b[0m\n",
      "\u001b[34mEpoch: 69, Loss: 0.5035260915756226\u001b[0m\n",
      "\u001b[34mEpoch: 70, Loss: 0.5043687266962869\u001b[0m\n",
      "\u001b[34mEpoch: 71, Loss: 0.47830463307244436\u001b[0m\n",
      "\u001b[34mEpoch: 72, Loss: 0.4876450385366167\u001b[0m\n",
      "\u001b[34mEpoch: 73, Loss: 0.49941663656915936\u001b[0m\n",
      "\u001b[34mEpoch: 74, Loss: 0.4729224869183132\u001b[0m\n",
      "\u001b[34mEpoch: 75, Loss: 0.4871910980769566\u001b[0m\n",
      "\u001b[34mEpoch: 76, Loss: 0.48438156076839994\u001b[0m\n",
      "\u001b[34mEpoch: 77, Loss: 0.4859240140233721\u001b[0m\n",
      "\u001b[34mEpoch: 78, Loss: 0.46368861198425293\u001b[0m\n",
      "\u001b[34mEpoch: 79, Loss: 0.46091167415891376\u001b[0m\n",
      "\u001b[34mEpoch: 80, Loss: 0.45737938795770916\u001b[0m\n",
      "\u001b[34mEpoch: 81, Loss: 0.46522309524672373\u001b[0m\n",
      "\u001b[34mEpoch: 82, Loss: 0.4719838287149157\u001b[0m\n",
      "\u001b[34mEpoch: 83, Loss: 0.4663252660206386\u001b[0m\n",
      "\u001b[34mEpoch: 84, Loss: 0.45445322138922556\u001b[0m\n",
      "\u001b[34mEpoch: 85, Loss: 0.43833604029246737\u001b[0m\n",
      "\u001b[34mEpoch: 86, Loss: 0.4552402453763144\u001b[0m\n",
      "\u001b[34mEpoch: 87, Loss: 0.4401587077549526\u001b[0m\n",
      "\u001b[34mEpoch: 88, Loss: 0.41502417411123005\u001b[0m\n",
      "\u001b[34mEpoch: 89, Loss: 0.4478232264518738\u001b[0m\n",
      "\u001b[34mEpoch: 90, Loss: 0.4459152860300882\u001b[0m\n",
      "\u001b[34mEpoch: 91, Loss: 0.4377321984086718\u001b[0m\n",
      "\u001b[34mEpoch: 92, Loss: 0.43529461111341206\u001b[0m\n",
      "\u001b[34mEpoch: 93, Loss: 0.42311711396489826\u001b[0m\n",
      "\u001b[34mEpoch: 94, Loss: 0.4023792658533369\u001b[0m\n",
      "\u001b[34mEpoch: 95, Loss: 0.44349158235958647\u001b[0m\n",
      "\u001b[34mEpoch: 96, Loss: 0.44372184787477764\u001b[0m\n",
      "\u001b[34mEpoch: 97, Loss: 0.4377509483269283\u001b[0m\n",
      "\u001b[34mEpoch: 98, Loss: 0.4265687252793993\u001b[0m\n",
      "\u001b[34mEpoch: 99, Loss: 0.4060417711734772\u001b[0m\n",
      "\u001b[34mEpoch: 100, Loss: 0.43413359352520536\u001b[0m\n",
      "\u001b[34m[2019-12-14 09:43:21.597 algo-1:45 INFO utils.py:27] The end of training job file will not be written for jobs running under SageMaker.\u001b[0m\n",
      "\n",
      "2019-12-14 09:43:33 Completed - Training job completed\n",
      "Training seconds: 80\n",
      "Billable seconds: 80\n",
      "CPU times: user 572 ms, sys: 39 ms, total: 611 ms\n",
      "Wall time: 4min 42s\n"
     ]
    }
   ],
   "source": [
    "%%time\n",
    "\n",
    "# Train your estimator on S3 training data\n",
    "estimator.fit({'train': input_data})"
   ]
  },
  {
   "cell_type": "markdown",
   "metadata": {},
   "source": [
    "## EXERCISE: Deploy the trained model\n",
    "\n",
    "After training, deploy your model to create a `predictor`. If you're using a PyTorch model, you'll need to create a trained `PyTorchModel` that accepts the trained `<model>.model_data` as an input parameter and points to the provided `source_pytorch/predict.py` file as an entry point. \n",
    "\n",
    "To deploy a trained model, you'll use `<model>.deploy`, which takes in two arguments:\n",
    "* **initial_instance_count**: The number of deployed instances (1).\n",
    "* **instance_type**: The type of SageMaker instance for deployment.\n",
    "\n",
    "Note: If you run into an instance error, it may be because you chose the wrong training or deployment instance_type. It may help to refer to your previous exercise code to see which types of instances we used."
   ]
  },
  {
   "cell_type": "code",
   "execution_count": 14,
   "metadata": {},
   "outputs": [
    {
     "name": "stdout",
     "output_type": "stream",
     "text": [
      "---------------------------------------------------------------------------------------------------------------------------------------!CPU times: user 825 ms, sys: 51.7 ms, total: 877 ms\n",
      "Wall time: 11min 22s\n"
     ]
    }
   ],
   "source": [
    "%%time\n",
    "\n",
    "# uncomment, if needed\n",
    "from sagemaker.pytorch import PyTorchModel\n",
    "\n",
    "model = PyTorchModel(model_data=estimator.model_data,\n",
    "                     entry_point='predict.py',\n",
    "                     source_dir='source_pytorch',\n",
    "                     framework_version='1.3.1',\n",
    "                     role=role)\n",
    "\n",
    "# deploy your model to create a predictor\n",
    "predictor = model.deploy(initial_instance_count=1, instance_type='ml.t2.medium')"
   ]
  },
  {
   "cell_type": "markdown",
   "metadata": {},
   "source": [
    "---\n",
    "# Evaluating Your Model\n",
    "\n",
    "Once your model is deployed, you can see how it performs when aptest_y_predso our test data.\n",
    "\n",
    "The provided cell below, reads in the test data, assuming it is stored locally in `data_dir` and named `test.csv`. The labels and features are extracted from the `.csv` file."
   ]
  },
  {
   "cell_type": "code",
   "execution_count": 15,
   "metadata": {},
   "outputs": [],
   "source": [
    "\"\"\"\n",
    "DON'T MODIFY ANYTHING IN THIS CELL THAT IS BELOW THIS LINE\n",
    "\"\"\"\n",
    "import os\n",
    "\n",
    "# read in test data, assuming it is stored locally\n",
    "test_data = pd.read_csv(os.path.join(data_dir, \"test.csv\"), header=None, names=None)\n",
    "\n",
    "# labels are in the first column\n",
    "test_y = test_data.iloc[:,0]\n",
    "test_x = test_data.iloc[:,1:]"
   ]
  },
  {
   "cell_type": "markdown",
   "metadata": {},
   "source": [
    "## EXERCISE: Determine the accuracy of your model\n",
    "\n",
    "Use your deployed `predictor` to generate predicted, class labels for the test data. Compare those to the *true* labels, `test_y`, and calculate the accuracy as a value between 0 and 1.0 that indicates the fraction of test data that your model classified correctly. You may use [sklearn.metrics](https://scikit-learn.org/stable/modules/classes.html#module-sklearn.metrics) for this calculation.\n",
    "\n",
    "**To pass this project, your model should get at least 90% test accuracy.**"
   ]
  },
  {
   "cell_type": "code",
   "execution_count": 16,
   "metadata": {},
   "outputs": [
    {
     "name": "stdout",
     "output_type": "stream",
     "text": [
      "25\n",
      "Test passed!\n"
     ]
    }
   ],
   "source": [
    "# First: generate predicted, class labels\n",
    "test_y_preds = predictor.predict(test_x)\n",
    "print(len(test_y_preds))\n",
    "\"\"\"\n",
    "DON'T MODIFY ANYTHING IN THIS CELL THAT IS BELOW THIS LINE\n",
    "\"\"\"\n",
    "# test that your model generates the correct number of labels\n",
    "assert len(test_y_preds)==len(test_y), 'Unexpected number of predictions.'\n",
    "print('Test passed!')"
   ]
  },
  {
   "cell_type": "code",
   "execution_count": 17,
   "metadata": {},
   "outputs": [
    {
     "name": "stdout",
     "output_type": "stream",
     "text": [
      "1.0\n",
      "\n",
      "Predicted class labels: \n",
      "[[1.]\n",
      " [1.]\n",
      " [1.]\n",
      " [1.]\n",
      " [1.]\n",
      " [1.]\n",
      " [0.]\n",
      " [0.]\n",
      " [0.]\n",
      " [0.]\n",
      " [0.]\n",
      " [0.]\n",
      " [1.]\n",
      " [1.]\n",
      " [1.]\n",
      " [1.]\n",
      " [1.]\n",
      " [1.]\n",
      " [0.]\n",
      " [1.]\n",
      " [0.]\n",
      " [1.]\n",
      " [1.]\n",
      " [0.]\n",
      " [0.]]\n",
      "\n",
      "True class labels: \n",
      "[1 1 1 1 1 1 0 0 0 0 0 0 1 1 1 1 1 1 0 1 0 1 1 0 0]\n"
     ]
    }
   ],
   "source": [
    "# Second: calculate the test accuracy\n",
    "from sklearn.metrics import accuracy_score\n",
    "accuracy = accuracy_score(test_y, test_y_preds)\n",
    "\n",
    "print(accuracy)\n",
    "\n",
    "\n",
    "## print out the array of predicted and true labels, if you want\n",
    "print('\\nPredicted class labels: ')\n",
    "print(test_y_preds)\n",
    "print('\\nTrue class labels: ')\n",
    "print(test_y.values)"
   ]
  },
  {
   "cell_type": "markdown",
   "metadata": {},
   "source": [
    "### Question 1: How many false positives and false negatives did your model produce, if any? And why do you think this is?"
   ]
  },
  {
   "cell_type": "markdown",
   "metadata": {},
   "source": [
    "**Answer**: \n",
    "There are no false positives or false negatives. The model has an accuracy of 100%.\n",
    "But if we had a larger data set, the result maybe would be different. I also think I chose the right features to train the model.\n"
   ]
  },
  {
   "cell_type": "markdown",
   "metadata": {},
   "source": [
    "### Question 2: How did you decide on the type of model to use? "
   ]
  },
  {
   "cell_type": "markdown",
   "metadata": {},
   "source": [
    "**Answer**: We have 70 elements in the training-dataset and then another 25 elements in the test-dataset. That is not much to train and evaluate a modell. \n",
    "At first I was curious to see how a neural network performs here as a binary classifier. And as it turns out very well. I think a random forest from Scikit-learn, for example, would have performed similarly here."
   ]
  },
  {
   "cell_type": "markdown",
   "metadata": {},
   "source": [
    "----\n",
    "## EXERCISE: Clean up Resources\n",
    "\n",
    "After you're done evaluating your model, **delete your model endpoint**. You can do this with a call to `.delete_endpoint()`. You need to show, in this notebook, that the endpoint was deleted. Any other resources, you may delete from the AWS console, and you will find more instructions on cleaning up all your resources, below."
   ]
  },
  {
   "cell_type": "code",
   "execution_count": 21,
   "metadata": {},
   "outputs": [],
   "source": [
    "# uncomment and fill in the line below!\n",
    "# <name_of_deployed_predictor>.delete_endpoint()\n",
    "predictor.delete_endpoint()"
   ]
  },
  {
   "cell_type": "markdown",
   "metadata": {},
   "source": [
    "### Deleting S3 bucket\n",
    "\n",
    "When you are *completely* done with training and testing models, you can also delete your entire S3 bucket. If you do this before you are done training your model, you'll have to recreate your S3 bucket and upload your training data again."
   ]
  },
  {
   "cell_type": "code",
   "execution_count": 22,
   "metadata": {},
   "outputs": [
    {
     "data": {
      "text/plain": [
       "[{'ResponseMetadata': {'RequestId': 'A591A4813B303DB9',\n",
       "   'HostId': 'PZb/9VrVc2WADFUaIT0hR6AYj2qckjfDgzc6Le0VH/61+iUIH505UzTghiXc5UH/AbwyltuME70=',\n",
       "   'HTTPStatusCode': 200,\n",
       "   'HTTPHeaders': {'x-amz-id-2': 'PZb/9VrVc2WADFUaIT0hR6AYj2qckjfDgzc6Le0VH/61+iUIH505UzTghiXc5UH/AbwyltuME70=',\n",
       "    'x-amz-request-id': 'A591A4813B303DB9',\n",
       "    'date': 'Sat, 14 Dec 2019 10:13:22 GMT',\n",
       "    'connection': 'close',\n",
       "    'content-type': 'application/xml',\n",
       "    'transfer-encoding': 'chunked',\n",
       "    'server': 'AmazonS3'},\n",
       "   'RetryAttempts': 0},\n",
       "  'Deleted': [{'Key': 'sagemaker-plagiarism-detection/pytorch-training-2019-12-14-09-34-10-170/debug-output/training_job_end.ts'},\n",
       "   {'Key': 'pytorch-inference-2019-12-14-09-46-29-242/model.tar.gz'},\n",
       "   {'Key': 'sagemaker-plagiarism-detection/pytorch-training-2019-12-14-09-39-29-922/debug-output/events/000000000200/000000000200_worker_0.tfevents'},\n",
       "   {'Key': 'sagemaker-plagiarism-detection/pytorch-training-2019-12-14-09-39-29-922/debug-output/index/000000000/000000000300_worker_0.json'},\n",
       "   {'Key': 'sagemaker-plagiarism-detection/pytorch-training-2019-12-14-09-39-29-922/debug-output/collections/000000000/worker_0_collections.json'},\n",
       "   {'Key': 'sagemaker-plagiarism-detection/pytorch-training-2019-12-14-09-28-57-008/debug-output/training_job_end.ts'},\n",
       "   {'Key': 'sagemaker-plagiarism-detection/pytorch-training-2019-12-14-09-39-29-922/debug-output/index/000000000/000000000500_worker_0.json'},\n",
       "   {'Key': 'sagemaker-plagiarism-detection/test.csv'},\n",
       "   {'Key': 'pytorch-training-2019-12-14-09-39-29-922/source/sourcedir.tar.gz'},\n",
       "   {'Key': 'sagemaker-plagiarism-detection/pytorch-training-2019-12-14-09-39-29-922/debug-output/events/000000000400/000000000400_worker_0.tfevents'},\n",
       "   {'Key': 'sagemaker-plagiarism-detection/pytorch-training-2019-12-14-09-39-29-922/debug-output/index/000000000/000000000000_worker_0.json'},\n",
       "   {'Key': 'pytorch-training-2019-12-14-09-28-57-008/source/sourcedir.tar.gz'},\n",
       "   {'Key': 'sagemaker-plagiarism-detection/pytorch-training-2019-12-14-09-22-28-175/debug-output/training_job_end.ts'},\n",
       "   {'Key': 'sagemaker-plagiarism-detection/pytorch-training-2019-12-14-09-39-29-922/debug-output/index/000000000/000000000400_worker_0.json'},\n",
       "   {'Key': 'sagemaker-plagiarism-detection/pytorch-training-2019-12-14-09-39-29-922/debug-output/events/000000000100/000000000100_worker_0.tfevents'},\n",
       "   {'Key': 'sagemaker-plagiarism-detection/pytorch-training-2019-12-14-09-39-29-922/debug-output/index/000000000/000000000200_worker_0.json'},\n",
       "   {'Key': 'sagemaker-plagiarism-detection/pytorch-training-2019-12-14-09-39-29-922/debug-output/events/000000000500/000000000500_worker_0.tfevents'},\n",
       "   {'Key': 'pytorch-training-2019-12-14-09-22-28-175/source/sourcedir.tar.gz'},\n",
       "   {'Key': 'sagemaker-plagiarism-detection/pytorch-training-2019-12-14-09-39-29-922/debug-output/index/000000000/000000000600_worker_0.json'},\n",
       "   {'Key': 'sagemaker-plagiarism-detection/pytorch-training-2019-12-14-09-39-29-922/debug-output/training_job_end.ts'},\n",
       "   {'Key': 'sagemaker-plagiarism-detection/pytorch-training-2019-12-14-09-39-29-922/debug-output/events/000000000300/000000000300_worker_0.tfevents'},\n",
       "   {'Key': 'sagemaker-plagiarism-detection/pytorch-training-2019-12-14-09-39-29-922/output/model.tar.gz'},\n",
       "   {'Key': 'pytorch-training-2019-12-14-09-34-10-170/source/sourcedir.tar.gz'},\n",
       "   {'Key': 'sagemaker-plagiarism-detection/pytorch-training-2019-12-14-09-39-29-922/debug-output/events/000000000000/000000000000_worker_0.tfevents'},\n",
       "   {'Key': 'sagemaker-plagiarism-detection/train.csv'},\n",
       "   {'Key': 'sagemaker-plagiarism-detection/pytorch-training-2019-12-14-09-39-29-922/debug-output/index/000000000/000000000100_worker_0.json'},\n",
       "   {'Key': 'sagemaker-plagiarism-detection/pytorch-training-2019-12-14-09-39-29-922/debug-output/events/000000000600/000000000600_worker_0.tfevents'}]}]"
      ]
     },
     "execution_count": 22,
     "metadata": {},
     "output_type": "execute_result"
    }
   ],
   "source": [
    "# deleting bucket, uncomment lines below\n",
    "\n",
    "bucket_to_delete = boto3.resource('s3').Bucket(bucket)\n",
    "bucket_to_delete.objects.all().delete()"
   ]
  },
  {
   "cell_type": "markdown",
   "metadata": {},
   "source": [
    "### Deleting all your models and instances\n",
    "\n",
    "When you are _completely_ done with this project and do **not** ever want to revisit this notebook, you can choose to delete all of your SageMaker notebook instances and models by following [these instructions](https://docs.aws.amazon.com/sagemaker/latest/dg/ex1-cleanup.html). Before you delete this notebook instance, I recommend at least downloading a copy and saving it, locally."
   ]
  },
  {
   "cell_type": "markdown",
   "metadata": {},
   "source": [
    "---\n",
    "## Further Directions\n",
    "\n",
    "There are many ways to improve or add on to this project to expand your learning or make this more of a unique project for you. A few ideas are listed below:\n",
    "* Train a classifier to predict the *category* (1-3) of plagiarism and not just plagiarized (1) or not (0).\n",
    "* Utilize a different and larger dataset to see if this model can be extended to other types of plagiarism.\n",
    "* Use language or character-level analysis to find different (and more) similarity features.\n",
    "* Write a complete pipeline function that accepts a source text and submitted text file, and classifies the submitted text as plagiarized or not.\n",
    "* Use API Gateway and a lambda function to deploy your model to a web application.\n",
    "\n",
    "These are all just options for extending your work. If you've completed all the exercises in this notebook, you've completed a real-world application, and can proceed to submit your project. Great job!"
   ]
  }
 ],
 "metadata": {
  "kernelspec": {
   "display_name": "conda_pytorch_p36",
   "language": "python",
   "name": "conda_pytorch_p36"
  },
  "language_info": {
   "codemirror_mode": {
    "name": "ipython",
    "version": 3
   },
   "file_extension": ".py",
   "mimetype": "text/x-python",
   "name": "python",
   "nbconvert_exporter": "python",
   "pygments_lexer": "ipython3",
   "version": "3.6.5"
  }
 },
 "nbformat": 4,
 "nbformat_minor": 4
}
